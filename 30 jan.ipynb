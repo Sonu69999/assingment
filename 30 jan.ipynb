{
 "cells": [
  {
   "cell_type": "code",
   "execution_count": 10,
   "id": "f4b24c3a-c0ab-41b6-a485-32c6322c9aed",
   "metadata": {},
   "outputs": [
    {
     "name": "stdin",
     "output_type": "stream",
     "text": [
      "enter your marks 99\n"
     ]
    },
    {
     "name": "stdout",
     "output_type": "stream",
     "text": [
      "A\n"
     ]
    }
   ],
   "source": [
    "# question 1\n",
    "\n",
    "marks = int(input(\"enter your marks\"))\n",
    "if marks > 90 :\n",
    "    print(\"A\")\n",
    "elif marks > 80 and marks <= 90:\n",
    "    print(\"B\")\n",
    "elif marks >= 60 and marks <= 80:\n",
    "    print(\"C\")\n",
    "else :\n",
    "    print(\"D\")"
   ]
  },
  {
   "cell_type": "code",
   "execution_count": null,
   "id": "4568e4f1-b606-43f8-a7c0-b1457194c3da",
   "metadata": {},
   "outputs": [],
   "source": [
    "# question 2"
   ]
  },
  {
   "cell_type": "code",
   "execution_count": 1,
   "id": "50e347f7-aee1-40fb-8dc7-a255b30fe4ad",
   "metadata": {},
   "outputs": [
    {
     "name": "stdin",
     "output_type": "stream",
     "text": [
      "enter you cost price 100\n"
     ]
    },
    {
     "name": "stdout",
     "output_type": "stream",
     "text": [
      "tax = 5%\n"
     ]
    }
   ],
   "source": [
    "costprice = int(input(\"enter you cost price\"))\n",
    "if costprice > 100000:\n",
    "    print(\"tax = 15%\")\n",
    "elif costprice > 50000 and costprice <= 100000:\n",
    "    print(\"tax = 10%\")\n",
    "else :\n",
    "    costprice <= 50000      \n",
    "    print(\"tax = 5%\")"
   ]
  },
  {
   "cell_type": "code",
   "execution_count": null,
   "id": "d316189f-f438-4bd6-afda-675910df49bc",
   "metadata": {},
   "outputs": [],
   "source": [
    "# question 3"
   ]
  },
  {
   "cell_type": "code",
   "execution_count": 10,
   "id": "1406b9de-7e94-44d2-823a-c5e40c8cdf7f",
   "metadata": {},
   "outputs": [
    {
     "name": "stdin",
     "output_type": "stream",
     "text": [
      "enter your city Delhi\n"
     ]
    },
    {
     "name": "stdout",
     "output_type": "stream",
     "text": [
      "Red fort\n"
     ]
    }
   ],
   "source": [
    "city = input(\"enter your city\")\n",
    "if city == \"Delhi\":\n",
    "    print(\"Red fort\")\n",
    "elif city == \"Agra\" :\n",
    "    print(\"Taj Mahal\")\n",
    "else :\n",
    "    city == \"jaipur\"\n",
    "    print(\"jal Mahal\")  \n",
    "    "
   ]
  },
  {
   "cell_type": "code",
   "execution_count": 1,
   "id": "b8ac72ca-d75e-4bc2-b331-12de26c34eb3",
   "metadata": {},
   "outputs": [],
   "source": [
    "# question 4"
   ]
  },
  {
   "cell_type": "code",
   "execution_count": 5,
   "id": "912ee425-7cf0-46b7-806c-14c9d792e895",
   "metadata": {},
   "outputs": [
    {
     "name": "stdin",
     "output_type": "stream",
     "text": [
      "Enter number greater than 10 :  22\n"
     ]
    },
    {
     "name": "stdout",
     "output_type": "stream",
     "text": [
      "4\n"
     ]
    }
   ],
   "source": [
    "n=int(input('Enter number greater than 10 : '))\n",
    "count=0\n",
    "while n>=10:\n",
    "    if n%3==0:\n",
    "        count=count+1\n",
    "    n=n-1\n",
    "print(count)"
   ]
  },
  {
   "cell_type": "code",
   "execution_count": 1,
   "id": "a23f706b-c92a-4060-a18c-007ae7e25e96",
   "metadata": {},
   "outputs": [],
   "source": [
    "# question 5\n",
    "\n",
    "# Ans:- A while loop can be used when the code requires a certain condition to meet. If the condition is True, the code written will work fine. But it will keep continously running, if the code is not written well to somehow end the condition. Which means when the condition is not met and it is False, the loop will stop.\n",
    "# Below is the example of a while loop that calculates the sum of numbers, until user finally enters 0.\n",
    "\n"
   ]
  },
  {
   "cell_type": "code",
   "execution_count": 1,
   "id": "4995ac57-adb6-47ef-a544-ab70e19c684d",
   "metadata": {},
   "outputs": [
    {
     "name": "stdin",
     "output_type": "stream",
     "text": [
      "Enter a number:  12\n",
      "Enter a number:  0\n"
     ]
    },
    {
     "name": "stdout",
     "output_type": "stream",
     "text": [
      "total = 12\n"
     ]
    }
   ],
   "source": [
    "total = 0\n",
    "\n",
    "number = int(input('Enter a number: '))\n",
    "\n",
    "while number != 0:\n",
    "    total = total + number\n",
    "    \n",
    "    number = int(input('Enter a number: '))\n",
    "\n",
    "print('total =', total)\n",
    "\n"
   ]
  },
  {
   "cell_type": "code",
   "execution_count": 2,
   "id": "277e7108-a568-47de-a75d-d57ced81847b",
   "metadata": {},
   "outputs": [],
   "source": [
    "# question 6"
   ]
  },
  {
   "cell_type": "code",
   "execution_count": 3,
   "id": "255efeca-4e6f-48a5-a7c0-5c4caadfccb8",
   "metadata": {},
   "outputs": [
    {
     "name": "stdout",
     "output_type": "stream",
     "text": [
      "* * * * * * \n",
      "* * * * * * \n",
      "* * * * * * \n",
      "* * * * * * \n",
      "* * * * * * \n"
     ]
    }
   ],
   "source": [
    "# Ans:- square pattern\n",
    "i=1\n",
    "while i<=5:\n",
    "    i+=1\n",
    "    j=0\n",
    "    while j<=5:\n",
    "        print(\"*\",end=\" \")\n",
    "        j+=1\n",
    "    print()"
   ]
  },
  {
   "cell_type": "code",
   "execution_count": 4,
   "id": "4d84cbde-f6b0-4819-b79f-f03acd65afa3",
   "metadata": {},
   "outputs": [
    {
     "name": "stdout",
     "output_type": "stream",
     "text": [
      "* \n",
      "* * \n",
      "* * * \n",
      "* * * * \n",
      "* * * * * \n"
     ]
    }
   ],
   "source": [
    "# Right angle triange pattern\n",
    "i = 1\n",
    "while i <= 5:\n",
    "    j = 1\n",
    "    while j <= i:\n",
    "        print(\"* \", end=\"\")\n",
    "        j += 1\n",
    "    print(\"\")\n",
    "    i += 1"
   ]
  },
  {
   "cell_type": "code",
   "execution_count": 5,
   "id": "04edfa4e-058a-4f25-ad73-3e83be85bf29",
   "metadata": {},
   "outputs": [
    {
     "name": "stdout",
     "output_type": "stream",
     "text": [
      "* * * * * \n",
      "  * * * * \n",
      "    * * * \n",
      "      * * \n",
      "        * \n"
     ]
    }
   ],
   "source": [
    "# Inverse right angle triangle pattern\n",
    "rows = 5\n",
    "i = rows\n",
    "while i >= 1:\n",
    "    j = rows\n",
    "    while j > i:\n",
    "        # display space\n",
    "        print(' ', end=' ')\n",
    "        j -= 1\n",
    "    k = 1\n",
    "    while k <= i:\n",
    "        print('*', end=' ')\n",
    "        k += 1\n",
    "    print()\n",
    "    i -= 1"
   ]
  },
  {
   "cell_type": "code",
   "execution_count": 6,
   "id": "dcf8a594-421b-4b9d-8490-fb4fae58e0aa",
   "metadata": {},
   "outputs": [],
   "source": [
    "# question 7"
   ]
  },
  {
   "cell_type": "code",
   "execution_count": 7,
   "id": "2a037b15-8349-402b-94b4-223b22e9c15c",
   "metadata": {},
   "outputs": [
    {
     "name": "stdout",
     "output_type": "stream",
     "text": [
      "10\n",
      "9\n",
      "8\n",
      "7\n",
      "6\n",
      "5\n",
      "4\n",
      "3\n",
      "2\n",
      "1\n"
     ]
    }
   ],
   "source": [
    "#  Ans :- Reverse a while loop to display 10 to 1.\n",
    "n=10\n",
    "\n",
    "while n!=0:\n",
    "    print(n)\n",
    "    n=n-1"
   ]
  },
  {
   "cell_type": "code",
   "execution_count": 8,
   "id": "824425a2-6eed-4fc2-ab61-93eb5aedc372",
   "metadata": {},
   "outputs": [],
   "source": [
    "#  question 8"
   ]
  },
  {
   "cell_type": "code",
   "execution_count": 9,
   "id": "3abfcfbf-4387-4bf4-8bd6-04790f2a4362",
   "metadata": {},
   "outputs": [
    {
     "name": "stdout",
     "output_type": "stream",
     "text": [
      "10\n",
      "9\n",
      "8\n",
      "7\n",
      "6\n",
      "5\n",
      "4\n",
      "3\n",
      "2\n",
      "1\n"
     ]
    }
   ],
   "source": [
    "# Ans:- Reverse a while loop to display 10 to 1.\n",
    "n=10\n",
    "\n",
    "while n!=0:\n",
    "    print(n)\n",
    "    n=n-1"
   ]
  },
  {
   "cell_type": "code",
   "execution_count": null,
   "id": "5fdbc344-1b0e-46f0-8fd4-e9c8a7134121",
   "metadata": {},
   "outputs": [],
   "source": []
  }
 ],
 "metadata": {
  "kernelspec": {
   "display_name": "Python 3 (ipykernel)",
   "language": "python",
   "name": "python3"
  },
  "language_info": {
   "codemirror_mode": {
    "name": "ipython",
    "version": 3
   },
   "file_extension": ".py",
   "mimetype": "text/x-python",
   "name": "python",
   "nbconvert_exporter": "python",
   "pygments_lexer": "ipython3",
   "version": "3.10.8"
  }
 },
 "nbformat": 4,
 "nbformat_minor": 5
}
