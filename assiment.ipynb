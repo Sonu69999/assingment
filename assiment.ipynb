{
 "cells": [
  {
   "cell_type": "code",
   "execution_count": 1,
   "id": "bd576e5d-c1c7-4ace-aeb7-d8cb9e2e35b2",
   "metadata": {},
   "outputs": [],
   "source": [
    "# auestion 1 "
   ]
  },
  {
   "cell_type": "code",
   "execution_count": 2,
   "id": "28dbbf5f-8ca7-4c05-95a6-f4f73c05bbef",
   "metadata": {},
   "outputs": [],
   "source": [
    "# Ans: def keyword is used to create a function."
   ]
  },
  {
   "cell_type": "code",
   "execution_count": 3,
   "id": "68fdbc46-a24f-416b-ade6-2040a79a7a36",
   "metadata": {},
   "outputs": [
    {
     "data": {
      "text/plain": [
       "[1, 3, 5, 7, 9, 11, 13, 15, 17, 19, 21, 23]"
      ]
     },
     "execution_count": 3,
     "metadata": {},
     "output_type": "execute_result"
    }
   ],
   "source": [
    "#Create a function to return a list of odd numbers in the range of 1 to 25.\n",
    "def listOfOdd():\n",
    "    \"\"\"a function to return a list of odd numbers in the range of 1 to 25.\"\"\"\n",
    "    l1=[]\n",
    "    for i in range(1,25):\n",
    "        if i%2 != 0:\n",
    "            l1.append(i)\n",
    "    return l1\n",
    "listOfOdd()"
   ]
  },
  {
   "cell_type": "code",
   "execution_count": 4,
   "id": "1990ad35-bcb5-4cec-bb8d-e18c85c23490",
   "metadata": {},
   "outputs": [],
   "source": [
    "# question 2"
   ]
  },
  {
   "cell_type": "code",
   "execution_count": 7,
   "id": "87bdadcc-a025-4177-ad5f-40a0afb5354b",
   "metadata": {},
   "outputs": [],
   "source": [
    "# Ans : args is used in the function to pass multiple arguments in the function. These arguments can be of any type i.e. int, str, list, tuple. Also called non-keyword arguments.\n",
    "\n",
    "# **kwargs is also used in the function to pass multiple arguments in the function, but these arguments can only be in pairs of key and value i.e. dict type. Also called keyword arguments."
   ]
  },
  {
   "cell_type": "code",
   "execution_count": 9,
   "id": "f2f21009-c16b-4b43-8408-710f72130483",
   "metadata": {},
   "outputs": [
    {
     "data": {
      "text/plain": [
       "('Hello', 'Welcome', 'to', 'PW Skills')"
      ]
     },
     "execution_count": 9,
     "metadata": {},
     "output_type": "execute_result"
    }
   ],
   "source": [
    "# *args example \n",
    "\n",
    "def myFun(*a):\n",
    "    return a\n",
    "\n",
    "myFun('Hello', 'Welcome','to','PW Skills')"
   ]
  },
  {
   "cell_type": "code",
   "execution_count": 11,
   "id": "ed071cdb-8f05-4691-b612-610dab72f243",
   "metadata": {},
   "outputs": [
    {
     "data": {
      "text/plain": [
       "{'name': 'Sonu', 'course': 'DSM', 'batch': 'impact', 'year': 2023}"
      ]
     },
     "execution_count": 11,
     "metadata": {},
     "output_type": "execute_result"
    }
   ],
   "source": [
    "# **kwargs example\n",
    "\n",
    "def myFun1(**a):\n",
    "    return a\n",
    "\n",
    "myFun1(name = 'Sonu', course = 'DSM', batch = 'impact', year = 2023)"
   ]
  },
  {
   "cell_type": "code",
   "execution_count": 12,
   "id": "f1a171c2-cbd8-46c9-8fd9-f721f54d34ee",
   "metadata": {},
   "outputs": [],
   "source": [
    "# Question 3"
   ]
  },
  {
   "cell_type": "code",
   "execution_count": 13,
   "id": "0ba51a6e-a738-47b2-89da-e5703823dd46",
   "metadata": {},
   "outputs": [],
   "source": [
    "# Ans: Iterator in Python is an object that is used to iterate over iterable objects like lists, tuples, dicts, and sets.\n",
    "\n",
    "# iter(): The iter() method is called for the initialization of an iterator. This returns an iterator object.\n",
    "\n",
    "# next(): The next method returns the next value for the iterable. When we use a for loop to traverse any iterable object, internally it uses the iter() method to get an iterator object, which further uses the next() method to iterate over. This method raises a StopIteration to signal the end of the iteration."
   ]
  },
  {
   "cell_type": "code",
   "execution_count": 14,
   "id": "0737d828-ad84-4a50-bfe1-1f52e95a0aa1",
   "metadata": {},
   "outputs": [
    {
     "name": "stdout",
     "output_type": "stream",
     "text": [
      "2\n",
      "4\n",
      "6\n",
      "8\n",
      "10\n"
     ]
    }
   ],
   "source": [
    "l=[2,4,6,8,10,12,14,16,18,20]\n",
    "l1=iter(l)\n",
    "print(next(l1))\n",
    "print(next(l1))\n",
    "print(next(l1))\n",
    "print(next(l1))\n",
    "print(next(l1))"
   ]
  },
  {
   "cell_type": "code",
   "execution_count": 15,
   "id": "672c366f-0a8a-43d3-b349-cb733c89ca03",
   "metadata": {},
   "outputs": [],
   "source": [
    "# question 4"
   ]
  },
  {
   "cell_type": "code",
   "execution_count": 17,
   "id": "089df258-af68-4b9b-8461-02be2f90e861",
   "metadata": {},
   "outputs": [],
   "source": [
    "# Ans:A generator function is defined like a normal function, but whenever it needs to generate a value, it does so with the yield keyword rather than return. If the body of a def contains yield, the function automatically becomes a generator function.\n",
    "\n",
    "# The yield statement suspends function’s execution and sends a value back to the caller, but retains enough state to enable function to resume where it is left off. When resumed, the function continues execution immediately after the last yield run. This allows its code to produce a series of values over time, rather than computing them at once and sending them back like a list."
   ]
  },
  {
   "cell_type": "code",
   "execution_count": 18,
   "id": "03dadacf-9a9a-4908-bea4-bbc559b96dd3",
   "metadata": {},
   "outputs": [
    {
     "name": "stdout",
     "output_type": "stream",
     "text": [
      "Hello Krish!!\n",
      "Hello Sudhanshu!!\n",
      "Its Sonu here\n"
     ]
    }
   ],
   "source": [
    "def my_gen():\n",
    "    yield \"Hello Krish!!\"\n",
    "    yield \"Hello Sudhanshu!!\"\n",
    "    yield \"Its Sonu here\"\n",
    "    \n",
    "obj = my_gen()\n",
    " \n",
    "print(next(obj))\n",
    "print(next(obj))\n",
    "print(next(obj))"
   ]
  },
  {
   "cell_type": "code",
   "execution_count": 19,
   "id": "0b5df141-956e-44c5-adfd-bd10396ae46b",
   "metadata": {},
   "outputs": [],
   "source": [
    "# question 5"
   ]
  },
  {
   "cell_type": "code",
   "execution_count": 22,
   "id": "854c84bd-16f8-421f-a8cb-5dc1b46482bf",
   "metadata": {},
   "outputs": [
    {
     "name": "stdout",
     "output_type": "stream",
     "text": [
      "2\n",
      "3\n",
      "5\n",
      "7\n",
      "11\n",
      "13\n",
      "17\n",
      "19\n",
      "23\n",
      "29\n",
      "31\n",
      "37\n",
      "41\n",
      "43\n",
      "47\n",
      "53\n",
      "59\n",
      "61\n",
      "67\n",
      "71\n"
     ]
    }
   ],
   "source": [
    "# Ans: a generator function for prime numbers less than 1000. Use the next() method to print the first 20 prime numbers.\n",
    "def primes():\n",
    "    \"\"\"Create a generator function for prime numbers less than 1000.\"\"\"\n",
    "    yield 2\n",
    "    primes_list = [2]\n",
    "    for i in range(3, 1000):\n",
    "        is_prime = True\n",
    "        for prime in primes_list:\n",
    "            if i % prime == 0:\n",
    "                is_prime = False\n",
    "                break\n",
    "        if is_prime:\n",
    "            primes_list.append(i)\n",
    "            yield i\n",
    "\n",
    "prime_gen = primes()\n",
    "# the next() method to print the first 20 prime numbers.\n",
    "for i in range(20):\n",
    "    print(next(prime_gen))"
   ]
  },
  {
   "cell_type": "code",
   "execution_count": 23,
   "id": "7e9335f2-2262-41aa-a4a7-580aefe4ebeb",
   "metadata": {},
   "outputs": [],
   "source": [
    "# question 6"
   ]
  },
  {
   "cell_type": "code",
   "execution_count": 24,
   "id": "438d4a9f-34cc-4a99-99d1-93652a4dd1fa",
   "metadata": {},
   "outputs": [
    {
     "name": "stdout",
     "output_type": "stream",
     "text": [
      "0\n",
      "1\n",
      "1\n",
      "2\n",
      "3\n",
      "5\n",
      "8\n",
      "13\n",
      "21\n",
      "34\n"
     ]
    }
   ],
   "source": [
    "# Ans: a python program to print the first 10 Fibonacci numbers using a while loop.\n",
    "def fibonacci(n):\n",
    "    \"\"\"This function will print fibonacci sequence\"\"\"\n",
    "    a, b = 0, 1\n",
    "    count = 0\n",
    "    while count < n:\n",
    "        print(a)\n",
    "        a, b = b, a + b\n",
    "        count += 1\n",
    "\n",
    "fibonacci(10)"
   ]
  },
  {
   "cell_type": "code",
   "execution_count": 25,
   "id": "a0949d32-b8d0-4955-8103-592faf634e0a",
   "metadata": {},
   "outputs": [],
   "source": [
    "# question 7"
   ]
  },
  {
   "cell_type": "code",
   "execution_count": 27,
   "id": "0d93fb21-b2ce-4ff8-af7b-1a3f05b8afb0",
   "metadata": {},
   "outputs": [
    {
     "name": "stdout",
     "output_type": "stream",
     "text": [
      "['p', 'w', 's', 'k', 'i', 'l', 'l', 's']\n"
     ]
    }
   ],
   "source": [
    "# Ans :a List Comprehension to iterate through the given string: ‘pwskills’.\n",
    "string = 'pwskills'\n",
    "output = [char for char in string]\n",
    "print(output)\n"
   ]
  },
  {
   "cell_type": "code",
   "execution_count": 28,
   "id": "a98ff3f6-0956-4b1e-a2ad-0daa298835be",
   "metadata": {},
   "outputs": [],
   "source": [
    "# question 8"
   ]
  },
  {
   "cell_type": "code",
   "execution_count": 33,
   "id": "47262cf2-82b2-47b8-bd01-5815435e12d8",
   "metadata": {},
   "outputs": [
    {
     "name": "stdin",
     "output_type": "stream",
     "text": [
      "Please give a number :  23\n"
     ]
    },
    {
     "name": "stdout",
     "output_type": "stream",
     "text": [
      "Given number is a not palindrome\n"
     ]
    }
   ],
   "source": [
    "# Ans a python program to check whether a given number is Palindrome or not using a while loop.\n",
    "\n",
    "n = int(input(\"Please give a number : \"))\n",
    "def reverse(num):\n",
    "    if num<10:\n",
    "        return num \n",
    "    else:\n",
    "        return int(str(num%10) + str(reverse(num//10)))\n",
    "def isPalindrome(num):\n",
    "    # if num == reverse(num):\n",
    "        return 1\n",
    "    return 0\n",
    "if isPalindrome(n) == 1:\n",
    "    print(\"Given number is a palindrome\")\n",
    "else:\n",
    "    print(\"Given number is a not palindrome\") "
   ]
  },
  {
   "cell_type": "code",
   "execution_count": null,
   "id": "c51aa5cb-e484-402f-be00-6c15b99034c9",
   "metadata": {},
   "outputs": [],
   "source": []
  }
 ],
 "metadata": {
  "kernelspec": {
   "display_name": "Python 3 (ipykernel)",
   "language": "python",
   "name": "python3"
  },
  "language_info": {
   "codemirror_mode": {
    "name": "ipython",
    "version": 3
   },
   "file_extension": ".py",
   "mimetype": "text/x-python",
   "name": "python",
   "nbconvert_exporter": "python",
   "pygments_lexer": "ipython3",
   "version": "3.10.8"
  }
 },
 "nbformat": 4,
 "nbformat_minor": 5
}
