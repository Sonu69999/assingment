{
 "cells": [
  {
   "cell_type": "code",
   "execution_count": 1,
   "id": "d43c7fd8-d409-4a93-8a3a-72f2715a3912",
   "metadata": {},
   "outputs": [],
   "source": [
    "# question 1"
   ]
  },
  {
   "cell_type": "code",
   "execution_count": 2,
   "id": "9545b32c-f26b-4d22-b8d7-05ac4b35b068",
   "metadata": {},
   "outputs": [],
   "source": [
    "# Ans :- Guido van Rossum"
   ]
  },
  {
   "cell_type": "code",
   "execution_count": 3,
   "id": "6218f5ef-1548-42d5-9329-4e940401e74a",
   "metadata": {},
   "outputs": [],
   "source": [
    "#  question 2"
   ]
  },
  {
   "cell_type": "code",
   "execution_count": 4,
   "id": "b06afe88-8fa7-4857-b52e-449a0f94ab4a",
   "metadata": {},
   "outputs": [],
   "source": [
    "#  Ans :- python support object-oriented programming and structured programming."
   ]
  },
  {
   "cell_type": "code",
   "execution_count": 5,
   "id": "412ffd07-82df-4919-b8fd-7c370f2cd332",
   "metadata": {},
   "outputs": [],
   "source": [
    "# question 3"
   ]
  },
  {
   "cell_type": "code",
   "execution_count": 6,
   "id": "0cc4b950-e628-4645-9e3f-10a441bdd97d",
   "metadata": {},
   "outputs": [],
   "source": [
    "# Ans:- Yes, python is case-sensitive language."
   ]
  },
  {
   "cell_type": "code",
   "execution_count": 7,
   "id": "76b3bd46-7fa4-4ee1-b8ac-25901e359a7f",
   "metadata": {},
   "outputs": [],
   "source": [
    "# question 4"
   ]
  },
  {
   "cell_type": "code",
   "execution_count": 8,
   "id": "bebb6ea5-128a-4dc7-a62f-168ba24d5aba",
   "metadata": {},
   "outputs": [],
   "source": [
    "# Ans :- the Extension for python files ae - .py,.pyi"
   ]
  },
  {
   "cell_type": "code",
   "execution_count": 9,
   "id": "faf5712f-3ea1-497f-93e3-536503f6cbee",
   "metadata": {},
   "outputs": [],
   "source": [
    "#  question 5"
   ]
  },
  {
   "cell_type": "code",
   "execution_count": 10,
   "id": "90d9b706-9b9a-49d8-b110-99799acf7e4d",
   "metadata": {},
   "outputs": [],
   "source": [
    "# Ans:- python is an interpreted language."
   ]
  },
  {
   "cell_type": "code",
   "execution_count": 11,
   "id": "dcbb9ea5-1f9f-41b5-81cc-094ac4be0f79",
   "metadata": {},
   "outputs": [],
   "source": [
    "#  question 6"
   ]
  },
  {
   "cell_type": "code",
   "execution_count": 12,
   "id": "ace93309-8887-45af-97aa-1d299999c0c7",
   "metadata": {},
   "outputs": [],
   "source": [
    "# Ans:- indentation is udes to define a block of code in python, a module,a function body,and a class definition are few blocks."
   ]
  },
  {
   "cell_type": "code",
   "execution_count": 13,
   "id": "2c673384-7781-4ff2-ad77-88400a5363e3",
   "metadata": {},
   "outputs": [],
   "source": [
    "# question 7"
   ]
  },
  {
   "cell_type": "code",
   "execution_count": 14,
   "id": "0b26e885-0963-4d24-90c0-3bae787aa8d1",
   "metadata": {},
   "outputs": [],
   "source": [
    "# Ans:- Hash character(#) is used to give single line comment in python."
   ]
  },
  {
   "cell_type": "code",
   "execution_count": 15,
   "id": "0afc8d35-12cd-4b6b-85b7-f128b1a21265",
   "metadata": {},
   "outputs": [],
   "source": [
    "#  question 8"
   ]
  },
  {
   "cell_type": "code",
   "execution_count": 16,
   "id": "a3831ab6-d7d0-4723-b973-90836870918b",
   "metadata": {},
   "outputs": [],
   "source": [
    "#  Ans:- functions which can help to find the version of pythn are\n",
    "   # Using sys.verson method\n",
    "   # Using python_version() function\n",
    "   # Using python -V command."
   ]
  },
  {
   "cell_type": "code",
   "execution_count": 17,
   "id": "e4b34327-e737-4a75-8865-7cf0be3fe24a",
   "metadata": {},
   "outputs": [],
   "source": [
    "#  question 9"
   ]
  },
  {
   "cell_type": "code",
   "execution_count": 18,
   "id": "b7f9847f-e330-498a-a7e6-21aad930c83e",
   "metadata": {},
   "outputs": [],
   "source": [
    "#  Ans:- python supports to make anonymous functions at runtime using a contruct called \"lambda\""
   ]
  },
  {
   "cell_type": "code",
   "execution_count": 21,
   "id": "fbe87f46-864d-4eb2-a0c7-bdb4c3b69069",
   "metadata": {},
   "outputs": [],
   "source": [
    " # question 10"
   ]
  },
  {
   "cell_type": "code",
   "execution_count": 22,
   "id": "6ae598e6-ace0-4a82-a75e-901a87108bbb",
   "metadata": {},
   "outputs": [],
   "source": [
    "#  Ans:- pip stands for \"preferred installer program\" in python."
   ]
  },
  {
   "cell_type": "code",
   "execution_count": 23,
   "id": "0fea6a8b-6f61-42b2-9359-f1fa2f7f5025",
   "metadata": {},
   "outputs": [],
   "source": [
    "#  question 11"
   ]
  },
  {
   "cell_type": "code",
   "execution_count": 24,
   "id": "021ea8e5-214c-4792-8196-db1e94441fad",
   "metadata": {},
   "outputs": [],
   "source": [
    "# Ans :- python Built in functions are\n",
    "         # print() function\n",
    "         # type() function\n",
    "         # input() function\n",
    "         # abs() function\n",
    "         # pow() function\n",
    "         # dir() function\n",
    "         # sorted() function\n",
    "         # max() function   \n",
    "            "
   ]
  },
  {
   "cell_type": "code",
   "execution_count": 25,
   "id": "aba574d7-92a6-4086-99ae-54edf02e0488",
   "metadata": {},
   "outputs": [],
   "source": [
    "# question 12"
   ]
  },
  {
   "cell_type": "code",
   "execution_count": 26,
   "id": "7fd9e500-785e-48cf-8154-025d0c6ead8b",
   "metadata": {},
   "outputs": [],
   "source": [
    "# Ans:- An identifier can have a maximum length of 79 characters in python."
   ]
  },
  {
   "cell_type": "code",
   "execution_count": 27,
   "id": "f8e8543f-ddd3-4607-b864-757b9d4c9c4c",
   "metadata": {},
   "outputs": [],
   "source": [
    "# question 13"
   ]
  },
  {
   "cell_type": "code",
   "execution_count": 28,
   "id": "8a1db12a-1ff3-4aab-bcce-79219ef17d06",
   "metadata": {},
   "outputs": [],
   "source": [
    "# Ans:- few benefits of using python are\n",
    "        # Data science.\n",
    "        # finance & Trading.\n",
    "        # computers graphics.\n",
    "        # web development.\n",
    "        # Basic game development.\n",
    "        # Security & penetration testing.\n",
    "        # System automation & administration.\n",
    "        \n",
    "        \n",
    "       "
   ]
  },
  {
   "cell_type": "code",
   "execution_count": 29,
   "id": "0cf2874d-b4c4-4e1f-a6c0-b748e85b36c8",
   "metadata": {},
   "outputs": [],
   "source": [
    "# question 14"
   ]
  },
  {
   "cell_type": "code",
   "execution_count": 30,
   "id": "1a28d129-9050-43ed-8a91-e4e44f173b35",
   "metadata": {},
   "outputs": [],
   "source": [
    "# Ans:- memory management in python involves a private heap contaning all python objects and data structures."
   ]
  },
  {
   "cell_type": "code",
   "execution_count": null,
   "id": "90ec33ac-baae-494f-ad8b-b6cb0f5df6be",
   "metadata": {},
   "outputs": [],
   "source": [
    "#  question 15"
   ]
  },
  {
   "cell_type": "code",
   "execution_count": null,
   "id": "3f84841c-77a0-44d9-a5bc-3d46a375ddbf",
   "metadata": {},
   "outputs": [],
   "source": [
    "# Ans:- The installation procedure involves just three steps\n",
    "        # 1. Download the binaries\n",
    "        # Run the Executable installer\n",
    "        # Add python to Path enviromental variables"
   ]
  },
  {
   "cell_type": "code",
   "execution_count": null,
   "id": "e3fbf1a3-8f6a-454e-82fc-974e36d0194d",
   "metadata": {},
   "outputs": [],
   "source": [
    "#  question 16"
   ]
  },
  {
   "cell_type": "code",
   "execution_count": null,
   "id": "1eec3c26-68e4-48ba-bae8-078cd63c2441",
   "metadata": {},
   "outputs": [],
   "source": [
    "#  Ans:- yes indentation is mandatory in python to define the block of statement."
   ]
  }
 ],
 "metadata": {
  "kernelspec": {
   "display_name": "Python 3 (ipykernel)",
   "language": "python",
   "name": "python3"
  },
  "language_info": {
   "codemirror_mode": {
    "name": "ipython",
    "version": 3
   },
   "file_extension": ".py",
   "mimetype": "text/x-python",
   "name": "python",
   "nbconvert_exporter": "python",
   "pygments_lexer": "ipython3",
   "version": "3.10.8"
  }
 },
 "nbformat": 4,
 "nbformat_minor": 5
}
