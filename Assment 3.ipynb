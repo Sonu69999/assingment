{
 "cells": [
  {
   "cell_type": "code",
   "execution_count": 1,
   "id": "8c35a0df-6753-4e37-928c-00b5880ec1a3",
   "metadata": {},
   "outputs": [],
   "source": [
    "# quetion 1"
   ]
  },
  {
   "cell_type": "code",
   "execution_count": 9,
   "id": "851b440f-f3a9-4e80-a390-29b6f7b39a85",
   "metadata": {},
   "outputs": [
    {
     "name": "stdout",
     "output_type": "stream",
     "text": [
      "0\n",
      "1\n",
      "2\n",
      "3\n",
      "4\n",
      "5\n",
      "6\n",
      "7\n",
      "8\n",
      "9\n"
     ]
    }
   ],
   "source": [
    "# Ans:- For loops are used when you have a known number of iterations or when you want to iterate through a sequence (list, tuple, string, etc.) to perform an action for each item in the sequence.\n",
    "      \n",
    "    # Example:\n",
    "# print the numbers 0 to 9   \n",
    "\n",
    "for i in range (10):\n",
    "    print(i)"
   ]
  },
  {
   "cell_type": "code",
   "execution_count": 1,
   "id": "1ff5fbd6-9a28-4707-a178-099f297ba770",
   "metadata": {},
   "outputs": [
    {
     "name": "stdout",
     "output_type": "stream",
     "text": [
      "0\n",
      "1\n",
      "2\n",
      "3\n",
      "4\n",
      "5\n",
      "6\n",
      "7\n",
      "8\n",
      "9\n"
     ]
    }
   ],
   "source": [
    "# While loops are used when you want to keep executing a block of code as long as a certain condition is met.\n",
    "\n",
    "# Example;\n",
    "# print the number 0 to 9\n",
    "\n",
    "i = 0\n",
    "while i < 10:\n",
    "    print(i)\n",
    "    i += 1"
   ]
  },
  {
   "cell_type": "code",
   "execution_count": 2,
   "id": "ad022c3c-8119-4a02-afec-9b641ef88dfd",
   "metadata": {},
   "outputs": [],
   "source": [
    "# question 2"
   ]
  },
  {
   "cell_type": "code",
   "execution_count": 8,
   "id": "7085ffb3-a288-4d4e-9fd9-ee940bfacb88",
   "metadata": {},
   "outputs": [
    {
     "name": "stdout",
     "output_type": "stream",
     "text": [
      "The sum of the first  10 natural number is: 1\n",
      "The product of the first  10 natural number is: 1\n",
      "The sum of the first  10 natural number is: 3\n",
      "The product of the first  10 natural number is: 2\n",
      "The sum of the first  10 natural number is: 6\n",
      "The product of the first  10 natural number is: 6\n",
      "The sum of the first  10 natural number is: 10\n",
      "The product of the first  10 natural number is: 24\n",
      "The sum of the first  10 natural number is: 15\n",
      "The product of the first  10 natural number is: 120\n",
      "The sum of the first  10 natural number is: 21\n",
      "The product of the first  10 natural number is: 720\n",
      "The sum of the first  10 natural number is: 28\n",
      "The product of the first  10 natural number is: 5040\n",
      "The sum of the first  10 natural number is: 36\n",
      "The product of the first  10 natural number is: 40320\n",
      "The sum of the first  10 natural number is: 45\n",
      "The product of the first  10 natural number is: 362880\n",
      "The sum of the first  10 natural number is: 55\n",
      "The product of the first  10 natural number is: 3628800\n"
     ]
    }
   ],
   "source": [
    "# Ans:- example using for loop to print first 10 natural number sum & product\n",
    "\n",
    "sum = 0\n",
    "product = 1\n",
    "\n",
    "\n",
    "for i in range(1,11):\n",
    "    sum += i\n",
    "    product *= i\n",
    "\n",
    "    print(\"The sum of the first 10 natural number is:\", sum)\n",
    "    print(\"The product of the first 10 natural number is:\", product)\n",
    "    \n",
    "    "
   ]
  },
  {
   "cell_type": "code",
   "execution_count": 9,
   "id": "352a1925-b66b-4363-8aed-6b3bf6aa2c32",
   "metadata": {},
   "outputs": [
    {
     "name": "stdout",
     "output_type": "stream",
     "text": [
      "The sum of the first 10 natural number is: 1\n",
      "The product of the first 10 natural number is: 1\n",
      "The sum of the first 10 natural number is: 3\n",
      "The product of the first 10 natural number is: 2\n",
      "The sum of the first 10 natural number is: 6\n",
      "The product of the first 10 natural number is: 6\n",
      "The sum of the first 10 natural number is: 10\n",
      "The product of the first 10 natural number is: 24\n",
      "The sum of the first 10 natural number is: 15\n",
      "The product of the first 10 natural number is: 120\n",
      "The sum of the first 10 natural number is: 21\n",
      "The product of the first 10 natural number is: 720\n",
      "The sum of the first 10 natural number is: 28\n",
      "The product of the first 10 natural number is: 5040\n",
      "The sum of the first 10 natural number is: 36\n",
      "The product of the first 10 natural number is: 40320\n",
      "The sum of the first 10 natural number is: 45\n",
      "The product of the first 10 natural number is: 362880\n",
      "The sum of the first 10 natural number is: 55\n",
      "The product of the first 10 natural number is: 3628800\n"
     ]
    }
   ],
   "source": [
    "# Ans:- example using while loop to print first 10 natural number sum & product\n",
    "\n",
    "sum = 0\n",
    "product = 1\n",
    "i = 1\n",
    "\n",
    "while i<=10:\n",
    "    sum += i\n",
    "    product *= i\n",
    "    i += 1\n",
    "    \n",
    "    print(\"The sum of the first 10 natural number is:\", sum)\n",
    "    print(\"The product of the first 10 natural number is:\", product)"
   ]
  },
  {
   "cell_type": "code",
   "execution_count": 10,
   "id": "9f6c1184-43b3-4903-8765-06b2b6ff761e",
   "metadata": {},
   "outputs": [],
   "source": [
    "# question 3"
   ]
  },
  {
   "cell_type": "code",
   "execution_count": 14,
   "id": "971f0d60-05e7-488b-ab60-0e48e673060c",
   "metadata": {},
   "outputs": [
    {
     "name": "stdin",
     "output_type": "stream",
     "text": [
      "Enter the units of electricity consumed:  310\n"
     ]
    },
    {
     "name": "stdout",
     "output_type": "stream",
     "text": [
      "The total electricity bill is: Rs. 2250.0\n"
     ]
    }
   ],
   "source": [
    "# Ans :-\n",
    "\n",
    "units = int(input(\"Enter the units of electricity consumed: \"))\n",
    "\n",
    "if units <= 100:\n",
    "    bill = units * 4.5\n",
    "elif units <= 200:\n",
    "    bill = 100 * 4.5 + (units - 100) * 6\n",
    "elif units <= 300:\n",
    "    bill = 100 * 4.5 + 100 * 6 + (units - 200) * 10\n",
    "else:\n",
    "    bill = 100 * 4.5 + 100 * 6 + 100 * 10 + (units - 300) * 20\n",
    "\n",
    "print(\"The total electricity bill is: Rs.\", bill)\n",
    "\n"
   ]
  },
  {
   "cell_type": "code",
   "execution_count": 15,
   "id": "331318a0-9a41-4df8-9b48-8028b0601489",
   "metadata": {},
   "outputs": [],
   "source": [
    "# question 4"
   ]
  },
  {
   "cell_type": "code",
   "execution_count": 16,
   "id": "3859aa2a-e89a-481f-9cc7-1fbd786734bd",
   "metadata": {},
   "outputs": [
    {
     "name": "stdout",
     "output_type": "stream",
     "text": [
      "The list of cubes that are divisible by 4 or 5: [8, 64, 125, 216, 512, 1000, 1728, 2744, 3375, 4096, 5832, 8000, 10648, 13824, 15625, 17576, 21952, 27000, 32768, 39304, 42875, 46656, 54872, 64000, 74088, 85184, 91125, 97336, 110592, 125000, 140608, 157464, 166375, 175616, 195112, 216000, 238328, 262144, 274625, 287496, 314432, 343000, 373248, 405224, 421875, 438976, 474552, 512000, 551368, 592704, 614125, 636056, 681472, 729000, 778688, 830584, 857375, 884736, 941192, 1000000]\n"
     ]
    }
   ],
   "source": [
    "# ans: By using for loop\n",
    "\n",
    "numbers = []\n",
    "cube_divisible = []\n",
    "\n",
    "for i in range(1, 101):\n",
    "    numbers.append(i)\n",
    "    cube = i ** 3\n",
    "    if cube % 4 == 0 or cube % 5 == 0:\n",
    "        cube_divisible.append(cube)\n",
    "\n",
    "print(\"The list of cubes that are divisible by 4 or 5:\", cube_divisible)"
   ]
  },
  {
   "cell_type": "code",
   "execution_count": 17,
   "id": "0d76c4b1-e829-4d6f-b8da-1cc9ad3a2097",
   "metadata": {},
   "outputs": [
    {
     "name": "stdout",
     "output_type": "stream",
     "text": [
      "The list of cubes that are divisible by 4 or 5: [8, 64, 125, 216, 512, 1000, 1728, 2744, 3375, 4096, 5832, 8000, 10648, 13824, 15625, 17576, 21952, 27000, 32768, 39304, 42875, 46656, 54872, 64000, 74088, 85184, 91125, 97336, 110592, 125000, 140608, 157464, 166375, 175616, 195112, 216000, 238328, 262144, 274625, 287496, 314432, 343000, 373248, 405224, 421875, 438976, 474552, 512000, 551368, 592704, 614125, 636056, 681472, 729000, 778688, 830584, 857375, 884736, 941192, 1000000]\n"
     ]
    }
   ],
   "source": [
    "#  By using while loop\n",
    "\n",
    "numbers = []\n",
    "cube_divisible = []\n",
    "i = 1\n",
    "\n",
    "while i <= 100:\n",
    "    numbers.append(i)\n",
    "    cube = i ** 3\n",
    "    if cube % 4 == 0 or cube % 5 == 0:\n",
    "        cube_divisible.append(cube)\n",
    "    i += 1\n",
    "\n",
    "print(\"The list of cubes that are divisible by 4 or 5:\", cube_divisible)\n"
   ]
  },
  {
   "cell_type": "code",
   "execution_count": 18,
   "id": "73c83b70-c5d2-40df-b8f9-5b47805b012f",
   "metadata": {},
   "outputs": [],
   "source": [
    "# question 5"
   ]
  },
  {
   "cell_type": "code",
   "execution_count": 19,
   "id": "20a29033-8b8d-4a7a-a3fb-a31a7d7ee3cc",
   "metadata": {},
   "outputs": [
    {
     "name": "stdout",
     "output_type": "stream",
     "text": [
      "The number of vowels in the string is: 12\n"
     ]
    }
   ],
   "source": [
    "# Ans:\n",
    "\n",
    "string = \"I want to become a data scientist\"\n",
    "vowels = \"aeiouAEIOU\"\n",
    "count = 0\n",
    "\n",
    "for char in string:\n",
    "    if char in vowels:\n",
    "        count += 1\n",
    "\n",
    "print(\"The number of vowels in the string is:\", count)"
   ]
  },
  {
   "cell_type": "code",
   "execution_count": null,
   "id": "8b472842-81b9-4727-bfb1-2eb3175752ff",
   "metadata": {},
   "outputs": [],
   "source": []
  }
 ],
 "metadata": {
  "kernelspec": {
   "display_name": "Python 3 (ipykernel)",
   "language": "python",
   "name": "python3"
  },
  "language_info": {
   "codemirror_mode": {
    "name": "ipython",
    "version": 3
   },
   "file_extension": ".py",
   "mimetype": "text/x-python",
   "name": "python",
   "nbconvert_exporter": "python",
   "pygments_lexer": "ipython3",
   "version": "3.10.8"
  }
 },
 "nbformat": 4,
 "nbformat_minor": 5
}
